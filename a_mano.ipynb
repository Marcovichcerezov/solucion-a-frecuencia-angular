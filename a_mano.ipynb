{
  "nbformat": 4,
  "nbformat_minor": 0,
  "metadata": {
    "colab": {
      "name": "a mano.ipynb",
      "version": "0.3.2",
      "provenance": [],
      "include_colab_link": true
    },
    "kernelspec": {
      "name": "python3",
      "display_name": "Python 3"
    }
  },
  "cells": [
    {
      "cell_type": "markdown",
      "metadata": {
        "id": "view-in-github",
        "colab_type": "text"
      },
      "source": [
        "[View in Colaboratory](https://colab.research.google.com/github/Marcovichcerezov/solucion-a-frecuencia-angular/blob/master/a_mano.ipynb)"
      ]
    },
    {
      "metadata": {
        "id": "MvcNGHNcdiIH",
        "colab_type": "code",
        "colab": {
          "base_uri": "https://localhost:8080/",
          "height": 34
        },
        "outputId": "0b163add-999b-4b80-9f1a-83276f3c8b0a"
      },
      "cell_type": "code",
      "source": [
        "# importando modulos necesarios\n",
        "%matplotlib inline\n",
        "\n",
        "import matplotlib.pyplot as plt\n",
        "import numpy as np\n",
        "import sympy \n",
        "from scipy import integrate\n",
        "\n",
        "# imprimir con notación matemática.\n",
        "sympy.init_printing(use_latex='mathjax')\n",
        "\n",
        "# Resolviendo ecuación diferencial\n",
        "# defino las incognitas\n",
        "t=sympy.Symbol(\"t\")#la incognita t de tiempo.\n",
        "k=sympy.Symbol(\"k\")#la constante k, la cual es una constante de resorte.\n",
        "m=sympy.Symbol(\"m\")#la incognita m, la cual es la masa del objeto.\n",
        "x = sympy.Function('x')#la funcion \"x\", representa la posicion en funcion del timpo\n",
        "\n",
        "\n",
        "# expreso la ecuacion\n",
        "f=-(k/m)*x(t)\n",
        "#imprimo la ecuacion para estar seguro de que es la que deseo resolver\n",
        "sympy.Eq(x(t).diff(t,2), f)\n",
        "\n",
        "# Resolviendo la ecuación\n",
        "sol=sympy.dsolve(x(t).diff(t,2) - f) \n",
        "sol"
      ],
      "execution_count": 161,
      "outputs": [
        {
          "output_type": "execute_result",
          "data": {
            "text/latex": "$$x{\\left (t \\right )} = C_{1} e^{- t \\sqrt{- \\frac{k}{m}}} + C_{2} e^{t \\sqrt{- \\frac{k}{m}}}$$",
            "text/plain": [
              "                  _____             _____\n",
              "                 ╱ -k              ╱ -k  \n",
              "           -t⋅  ╱  ───        t⋅  ╱  ─── \n",
              "              ╲╱    m           ╲╱    m  \n",
              "x(t) = C₁⋅ℯ             + C₂⋅ℯ           "
            ]
          },
          "metadata": {
            "tags": []
          },
          "execution_count": 161
        }
      ]
    },
    {
      "metadata": {
        "id": "uObIBkcERxE_",
        "colab_type": "text"
      },
      "cell_type": "markdown",
      "source": [
        "#Resolucion de ecuaciones diferenciales\n",
        "##Frecuencia Angular\n",
        "October 2018.\n",
        "\n",
        "Presentamos la ecuacion diferencial:\n",
        "$$\\frac{d^{2}}{d t^{2}} x{\\left (t \\right )} = - \\frac{k}{m} x{\\left (t \\right )}$$\n",
        "en donde la funcion x(t) representa la ecuacion de Movimiento Armonico Simple, \"k\" la constante de resorte obtenida de la ecuacon de la Ley de Hooke,  \"m\" la masa del objeto obtenida de la ecuacion de la segunda Ley de Newton.\n",
        "\n",
        "Creamos un programa cuya funcion nos devuelva valores de \"$w$\".\n",
        "\n",
        "Para eso resolvemos la ecuacion:\n",
        "$$-kx(t)=m\\frac{d²x(t)}{dt²}$$en donde $$x(t)=Acos(wt+\\phi)$$"
      ]
    },
    {
      "metadata": {
        "id": "M5AIOPz7YeAz",
        "colab_type": "code",
        "colab": {
          "base_uri": "https://localhost:8080/",
          "height": 34
        },
        "outputId": "23534687-47c6-4825-99be-2f82b5bb64bf"
      },
      "cell_type": "code",
      "source": [
        "#Resolvemos la parte derecha de la ecuacion \n",
        "from sympy import Derivative, diff, simplify\n",
        "from sympy import cos\n",
        "t=sympy.Symbol(\"t\")#la incognita t de tiempo.\n",
        "A=sympy.Symbol(\"A\")#la Amplitud(x_0)\n",
        "w=sympy.Symbol(\"w\")#la frecuncia angular\n",
        "p=sympy.Symbol(\"p\")#angulo de fase (Phi)\n",
        "m=sympy.Symbol(\"m\")#la incognita m, la cual es la masa del objeto.\n",
        "dt = Derivative(A*cos(w*t+p), t, 2).doit()\n",
        "m*dt\n",
        "\n"
      ],
      "execution_count": 162,
      "outputs": [
        {
          "output_type": "execute_result",
          "data": {
            "text/latex": "$$- A m w^{2} \\cos{\\left (p + t w \\right )}$$",
            "text/plain": [
              "      2             \n",
              "-A⋅m⋅w ⋅cos(p + t⋅w)"
            ]
          },
          "metadata": {
            "tags": []
          },
          "execution_count": 162
        }
      ]
    },
    {
      "metadata": {
        "id": "Uc0d0d_TsspQ",
        "colab_type": "text"
      },
      "cell_type": "markdown",
      "source": [
        "Al resolver la parte derecha de la ecuacion obtenemos:\n",
        "$$- A m w^{2} \\cos{\\left (\\phi + t w \\right )}$$que al igularla con :\n",
        "$$-kAcos(wt+\\phi)$$\n",
        "\n",
        "Obtenemos la siguiente ecuacion:\n",
        "$$k=mw²$$\n",
        "\n",
        "Ahora, encontramos las soluciones de la variable $w$:"
      ]
    },
    {
      "metadata": {
        "id": "KFhLlgUfws-C",
        "colab_type": "code",
        "colab": {
          "base_uri": "https://localhost:8080/",
          "height": 70
        },
        "outputId": "483e7910-40b7-4573-a41d-ccbcd9899ebb"
      },
      "cell_type": "code",
      "source": [
        "k=float(input(\"dame el valor de la constante de resorte: \"))\n",
        "m=float(input(\"dame la masa del objeto: \"))\n",
        "eq=(m*w**2)-k\n",
        "solve((eq),dict=True)"
      ],
      "execution_count": 163,
      "outputs": [
        {
          "output_type": "stream",
          "text": [
            "dame el valor de la constante de resorte: 2\n",
            "dame la masa del objeto: 2\n"
          ],
          "name": "stdout"
        },
        {
          "output_type": "execute_result",
          "data": {
            "text/latex": "$$\\left [ \\left \\{ w : -1.0\\right \\}, \\quad \\left \\{ w : 1.0\\right \\}\\right ]$$",
            "text/plain": [
              "[{w: -1.0}, {w: 1.0}]"
            ]
          },
          "metadata": {
            "tags": []
          },
          "execution_count": 163
        }
      ]
    },
    {
      "metadata": {
        "id": "hAZkCIWrza7N",
        "colab_type": "text"
      },
      "cell_type": "markdown",
      "source": [
        "Aqui la respuesta cuando los valores de \"k\" y \"m\" son iguales:\n",
        "$$\\left [ \\left \\{ w : -1.0\\right \\}, \\quad \\left \\{ w : 1.0\\right \\}\\right ]$$\n",
        "\n",
        "\n"
      ]
    }
  ]
}