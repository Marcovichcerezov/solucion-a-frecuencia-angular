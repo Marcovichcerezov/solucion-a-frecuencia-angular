{
  "nbformat": 4,
  "nbformat_minor": 0,
  "metadata": {
    "colab": {
      "name": "no se que hice.ipynb",
      "version": "0.3.2",
      "provenance": [],
      "include_colab_link": true
    },
    "kernelspec": {
      "name": "python3",
      "display_name": "Python 3"
    }
  },
  "cells": [
    {
      "cell_type": "markdown",
      "metadata": {
        "id": "view-in-github",
        "colab_type": "text"
      },
      "source": [
        "[View in Colaboratory](https://colab.research.google.com/github/Marcovichcerezov/solucion-a-frecuencia-angular/blob/master/no_se_que_hice.ipynb)"
      ]
    },
    {
      "metadata": {
        "id": "-RpmEknL0r_4",
        "colab_type": "code",
        "colab": {
          "base_uri": "https://localhost:8080/",
          "height": 142
        },
        "outputId": "96fe0359-935f-4c24-ad99-c802b09ea82a"
      },
      "cell_type": "code",
      "source": [
        "# importando modulos necesarios\n",
        "%matplotlib inline\n",
        "\n",
        "import matplotlib.pyplot as plt\n",
        "import numpy as np\n",
        "import sympy \n",
        "from scipy import integrate\n",
        "\n",
        "# imprimir con notación matemática.\n",
        "sympy.init_printing(use_latex='mathjax')\n",
        "\n",
        "# Resolviendo ecuación diferencial\n",
        "# defino las incognitas\n",
        "t=sympy.Symbol(\"t\")#la incognita t de tiempo.\n",
        "k=sympy.Symbol(\"k\")#la constante k, la cual es una constante de resorte.\n",
        "m=sympy.Symbol(\"m\")#la incognita m, la cual es la masa del objeto.\n",
        "x = sympy.Function('x')#la funcion \"x\", representa la posicion en funcion del timpo\n",
        "\n",
        "\n",
        "# expreso la ecuacion\n",
        "f=-(k/m)*x(t)\n",
        "#imprimo la ecuacion para estar seguro de que es la que deseo resolver\n",
        "sympy.Eq(x(t).diff(t,2), f)\n",
        "\n",
        "# Resolviendo la ecuación\n",
        "sol=sympy.dsolve(x(t).diff(t,2) - f) \n",
        "print(sol)\n",
        "\n",
        "\n",
        "#Igualamos a sol con x(t) y despejamos w\n",
        "from sympy import cos\n",
        "\n",
        "w=sympy.Symbol(\"w\")#la frecuncia angular\n",
        "c1=float(input(\"dame el valor de la primer cte de integracion: \"))\n",
        "c2=float(input(\"dame el valor de la segunda cte de integracion: \"))\n",
        "k=float(input(\"dame el valor de la constante de resorte: \"))\n",
        "m=float(input(\"dame la masa del objeto: \"))\n",
        "t=float(input(\"dame dame la incognita de tiempo: \"))\n",
        "A=float(input(\"dame la amplitud: \"))\n",
        "p=float(input(\"dame el valor del angulo de fase: \"))\n",
        "\n",
        "eq1=A*cos(w*t+p)-c1*np.exp(-t*np.sqrt(-k/m)) - c2*np.exp(t*np.sqrt(-k/m))\n",
        "from sympy import solve \n",
        "solve((eq1),dict=True) \n"
      ],
      "execution_count": 21,
      "outputs": [
        {
          "output_type": "stream",
          "text": [
            "Eq(x(t), C1*exp(-t*sqrt(-k/m)) + C2*exp(t*sqrt(-k/m)))\n",
            "dame el valor de la constante de resorte: -1\n",
            "dame la masa del objeto: 1\n",
            "dame dame la incognita de tiempo: 1\n",
            "dame la amplitud: 1\n",
            "dame el valor del angulo de fase: 1\n"
          ],
          "name": "stdout"
        },
        {
          "output_type": "execute_result",
          "data": {
            "text/latex": "$$\\left [ \\left \\{ w : -1.0 + 1.7927285508438 i\\right \\}, \\quad \\left \\{ w : 5.28318530717959 - 1.7927285508438 i\\right \\}\\right ]$$",
            "text/plain": [
              "[{w: -1.0 + 1.7927285508438⋅ⅈ}, {w: 5.28318530717959 - 1.7927285508438⋅ⅈ}]"
            ]
          },
          "metadata": {
            "tags": []
          },
          "execution_count": 21
        }
      ]
    },
    {
      "metadata": {
        "id": "VaaUhWQI2Utz",
        "colab_type": "text"
      },
      "cell_type": "markdown",
      "source": [
        "#Resolucion de ecuaciones diferenciales\n",
        "##Frecuencia Angular\n",
        "October 2018.\n",
        "\n",
        "Presentamos la ecuacioon diferencial:\n",
        "$$\\frac{d^{2}}{d t^{2}} x{\\left (t \\right )} = - \\frac{k}{m} x{\\left (t \\right )}$$\n",
        "en donde la funcion x(t) representa la ecuacion de Movimiento Armonico Simple, \"k\" la constante de resorte obtenida de la ecuacon de la Ley de Hooke,  \"m\" la masa del objeto obtenida de la ecuacion de la segunda Ley de Newton.\n",
        "\n",
        "Se resuelve la E.D. con un programa elavorado en Python, y cuya solucion de la ecuacion es:\n",
        "$$x{\\left (t \\right )} = C_{1} e^{- t \\sqrt{- \\frac{k}{m}}} + C_{2} e^{t \\sqrt{- \\frac{k}{m}}}$$\n",
        "\n",
        "Igualando la solución (Sol) a la ecuacion de Movimiento Armonico Simple obtenemos:\n",
        "$$A{\\cos{(wt+\\phi)} }= C_{1} e^{- t \\sqrt{- \\frac{k}{m}}} + C_{2} e^{t \\sqrt{- \\frac{k}{m}}}$$\n",
        "donde \"$A$\" es es la amplitud($x_m$),  \"$w$\" la frecuuencia angular, \"$t$\" el tiempo, y \"$\\phi$\" el angulo de fase.\n",
        "\n",
        "Despejando a $w$, obtenemos:\n",
        "$$w=\\frac{cos⁻¹(\\frac{ C_{1} e^{- t \\sqrt{- \\frac{k}{m}}} + C_{2} e^{t \\sqrt{- \\frac{k}{m}}}}{A})-\\phi}{t}$$"
      ]
    }
  ]
}